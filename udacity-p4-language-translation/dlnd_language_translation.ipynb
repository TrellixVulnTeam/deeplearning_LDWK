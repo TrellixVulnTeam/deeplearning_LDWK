{
 "cells": [
  {
   "cell_type": "markdown",
   "metadata": {
    "collapsed": true
   },
   "source": [
    "# Language Translation\n",
    "In this project, you’re going to take a peek into the realm of neural network machine translation.  You’ll be training a sequence to sequence model on a dataset of English and French sentences that can translate new sentences from English to French.\n",
    "## Get the Data\n",
    "Since translating the whole language of English to French will take lots of time to train, we have provided you with a small portion of the English corpus."
   ]
  },
  {
   "cell_type": "code",
   "execution_count": 1,
   "metadata": {
    "collapsed": true
   },
   "outputs": [],
   "source": [
    "\"\"\"\n",
    "DON'T MODIFY ANYTHING IN THIS CELL\n",
    "\"\"\"\n",
    "import helper\n",
    "import problem_unittests as tests\n",
    "\n",
    "source_path = 'data/small_vocab_en'\n",
    "target_path = 'data/small_vocab_fr'\n",
    "source_text = helper.load_data(source_path)\n",
    "target_text = helper.load_data(target_path)"
   ]
  },
  {
   "cell_type": "markdown",
   "metadata": {},
   "source": [
    "## Explore the Data\n",
    "Play around with view_sentence_range to view different parts of the data."
   ]
  },
  {
   "cell_type": "code",
   "execution_count": 2,
   "metadata": {},
   "outputs": [
    {
     "name": "stdout",
     "output_type": "stream",
     "text": [
      "Dataset Stats\n",
      "Roughly the number of unique words: 227\n",
      "Number of sentences: 137861\n",
      "Average number of words in a sentence: 13.225277634719028\n",
      "\n",
      "English sentences 0 to 10:\n",
      "new jersey is sometimes quiet during autumn , and it is snowy in april .\n",
      "the united states is usually chilly during july , and it is usually freezing in november .\n",
      "california is usually quiet during march , and it is usually hot in june .\n",
      "the united states is sometimes mild during june , and it is cold in september .\n",
      "your least liked fruit is the grape , but my least liked is the apple .\n",
      "his favorite fruit is the orange , but my favorite is the grape .\n",
      "paris is relaxing during december , but it is usually chilly in july .\n",
      "new jersey is busy during spring , and it is never hot in march .\n",
      "our least liked fruit is the lemon , but my least liked is the grape .\n",
      "the united states is sometimes busy during january , and it is sometimes warm in november .\n",
      "\n",
      "French sentences 0 to 10:\n",
      "new jersey est parfois calme pendant l' automne , et il est neigeux en avril .\n",
      "les états-unis est généralement froid en juillet , et il gèle habituellement en novembre .\n",
      "california est généralement calme en mars , et il est généralement chaud en juin .\n",
      "les états-unis est parfois légère en juin , et il fait froid en septembre .\n",
      "votre moins aimé fruit est le raisin , mais mon moins aimé est la pomme .\n",
      "son fruit préféré est l'orange , mais mon préféré est le raisin .\n",
      "paris est relaxant en décembre , mais il est généralement froid en juillet .\n",
      "new jersey est occupé au printemps , et il est jamais chaude en mars .\n",
      "notre fruit est moins aimé le citron , mais mon moins aimé est le raisin .\n",
      "les états-unis est parfois occupé en janvier , et il est parfois chaud en novembre .\n"
     ]
    }
   ],
   "source": [
    "view_sentence_range = (0, 10)\n",
    "\n",
    "\"\"\"\n",
    "DON'T MODIFY ANYTHING IN THIS CELL\n",
    "\"\"\"\n",
    "import numpy as np\n",
    "\n",
    "print('Dataset Stats')\n",
    "print('Roughly the number of unique words: {}'.format(len({word: None for word in source_text.split()})))\n",
    "\n",
    "sentences = source_text.split('\\n')\n",
    "word_counts = [len(sentence.split()) for sentence in sentences]\n",
    "print('Number of sentences: {}'.format(len(sentences)))\n",
    "print('Average number of words in a sentence: {}'.format(np.average(word_counts)))\n",
    "\n",
    "print()\n",
    "print('English sentences {} to {}:'.format(*view_sentence_range))\n",
    "print('\\n'.join(source_text.split('\\n')[view_sentence_range[0]:view_sentence_range[1]]))\n",
    "print()\n",
    "print('French sentences {} to {}:'.format(*view_sentence_range))\n",
    "print('\\n'.join(target_text.split('\\n')[view_sentence_range[0]:view_sentence_range[1]]))"
   ]
  },
  {
   "cell_type": "markdown",
   "metadata": {},
   "source": [
    "## Implement Preprocessing Function\n",
    "### Text to Word Ids\n",
    "As you did with other RNNs, you must turn the text into a number so the computer can understand it. In the function `text_to_ids()`, you'll turn `source_text` and `target_text` from words to ids.  However, you need to add the `<EOS>` word id at the end of `target_text`.  This will help the neural network predict when the sentence should end.\n",
    "\n",
    "You can get the `<EOS>` word id by doing:\n",
    "```python\n",
    "target_vocab_to_int['<EOS>']\n",
    "```\n",
    "You can get other word ids using `source_vocab_to_int` and `target_vocab_to_int`."
   ]
  },
  {
   "cell_type": "code",
   "execution_count": 3,
   "metadata": {},
   "outputs": [
    {
     "name": "stdout",
     "output_type": "stream",
     "text": [
      "Tests Passed\n"
     ]
    }
   ],
   "source": [
    "def text_to_ids(source_text, target_text, source_vocab_to_int, target_vocab_to_int):\n",
    "    \"\"\"\n",
    "    Convert source and target text to proper word ids\n",
    "    :param source_text: String that contains all the source text.\n",
    "    :param target_text: String that contains all the target text.\n",
    "    :param source_vocab_to_int: Dictionary to go from the source words to an id\n",
    "    :param target_vocab_to_int: Dictionary to go from the target words to an id\n",
    "    :return: A tuple of lists (source_id_text, target_id_text)\n",
    "    \"\"\"\n",
    "    # TODO: Implement Function\n",
    "    source_id_text = []\n",
    "    for sentences in source_text.split('\\n'):\n",
    "        sentence_id_text = []\n",
    "        for word in sentences.split():\n",
    "            idx = source_vocab_to_int[word]\n",
    "            sentence_id_text.append(idx)\n",
    "        source_id_text.append(sentence_id_text)\n",
    "            \n",
    "    \n",
    "    target_id_text = []\n",
    "    for sentences in target_text.split('\\n'):\n",
    "        sentence_id_text = []\n",
    "        for word in sentences.split():\n",
    "            idx = target_vocab_to_int[word]\n",
    "            sentence_id_text.append(idx)\n",
    "        sentence_id_text.append(target_vocab_to_int['<EOS>'])\n",
    "        target_id_text.append(sentence_id_text)\n",
    "    \n",
    "    return (source_id_text, target_id_text)\n",
    "\n",
    "\"\"\"\n",
    "DON'T MODIFY ANYTHING IN THIS CELL THAT IS BELOW THIS LINE\n",
    "\"\"\"\n",
    "tests.test_text_to_ids(text_to_ids)"
   ]
  },
  {
   "cell_type": "markdown",
   "metadata": {},
   "source": [
    "### Preprocess all the data and save it\n",
    "Running the code cell below will preprocess all the data and save it to file."
   ]
  },
  {
   "cell_type": "code",
   "execution_count": 4,
   "metadata": {
    "collapsed": true
   },
   "outputs": [],
   "source": [
    "\"\"\"\n",
    "DON'T MODIFY ANYTHING IN THIS CELL\n",
    "\"\"\"\n",
    "helper.preprocess_and_save_data(source_path, target_path, text_to_ids)"
   ]
  },
  {
   "cell_type": "markdown",
   "metadata": {},
   "source": [
    "# Check Point\n",
    "This is your first checkpoint. If you ever decide to come back to this notebook or have to restart the notebook, you can start from here. The preprocessed data has been saved to disk."
   ]
  },
  {
   "cell_type": "code",
   "execution_count": 5,
   "metadata": {
    "collapsed": true
   },
   "outputs": [],
   "source": [
    "\"\"\"\n",
    "DON'T MODIFY ANYTHING IN THIS CELL\n",
    "\"\"\"\n",
    "import numpy as np\n",
    "import helper\n",
    "import problem_unittests as tests\n",
    "\n",
    "(source_int_text, target_int_text), (source_vocab_to_int, target_vocab_to_int), _ = helper.load_preprocess()"
   ]
  },
  {
   "cell_type": "markdown",
   "metadata": {},
   "source": [
    "### Check the Version of TensorFlow and Access to GPU\n",
    "This will check to make sure you have the correct version of TensorFlow and access to a GPU"
   ]
  },
  {
   "cell_type": "code",
   "execution_count": 6,
   "metadata": {},
   "outputs": [
    {
     "name": "stdout",
     "output_type": "stream",
     "text": [
      "TensorFlow Version: 1.2.1\n",
      "Default GPU Device: /gpu:0\n"
     ]
    }
   ],
   "source": [
    "\"\"\"\n",
    "DON'T MODIFY ANYTHING IN THIS CELL\n",
    "\"\"\"\n",
    "from distutils.version import LooseVersion\n",
    "import warnings\n",
    "import tensorflow as tf\n",
    "from tensorflow.python.layers.core import Dense\n",
    "\n",
    "# Check TensorFlow Version\n",
    "assert LooseVersion(tf.__version__) >= LooseVersion('1.1'), 'Please use TensorFlow version 1.1 or newer'\n",
    "print('TensorFlow Version: {}'.format(tf.__version__))\n",
    "\n",
    "# Check for a GPU\n",
    "if not tf.test.gpu_device_name():\n",
    "    warnings.warn('No GPU found. Please use a GPU to train your neural network.')\n",
    "else:\n",
    "    print('Default GPU Device: {}'.format(tf.test.gpu_device_name()))"
   ]
  },
  {
   "cell_type": "markdown",
   "metadata": {},
   "source": [
    "## Build the Neural Network\n",
    "You'll build the components necessary to build a Sequence-to-Sequence model by implementing the following functions below:\n",
    "- `model_inputs`\n",
    "- `process_decoder_input`\n",
    "- `encoding_layer`\n",
    "- `decoding_layer_train`\n",
    "- `decoding_layer_infer`\n",
    "- `decoding_layer`\n",
    "- `seq2seq_model`\n",
    "\n",
    "### Input\n",
    "Implement the `model_inputs()` function to create TF Placeholders for the Neural Network. It should create the following placeholders:\n",
    "\n",
    "- Input text placeholder named \"input\" using the TF Placeholder name parameter with rank 2.\n",
    "- Targets placeholder with rank 2.\n",
    "- Learning rate placeholder with rank 0.\n",
    "- Keep probability placeholder named \"keep_prob\" using the TF Placeholder name parameter with rank 0.\n",
    "- Target sequence length placeholder named \"target_sequence_length\" with rank 1\n",
    "- Max target sequence length tensor named \"max_target_len\" getting its value from applying tf.reduce_max on the target_sequence_length placeholder. Rank 0.\n",
    "- Source sequence length placeholder named \"source_sequence_length\" with rank 1\n",
    "\n",
    "Return the placeholders in the following the tuple (input, targets, learning rate, keep probability, target sequence length, max target sequence length, source sequence length)"
   ]
  },
  {
   "cell_type": "code",
   "execution_count": 7,
   "metadata": {},
   "outputs": [
    {
     "name": "stdout",
     "output_type": "stream",
     "text": [
      "ERROR:tensorflow:==================================\n",
      "Object was never used (type <class 'tensorflow.python.framework.ops.Operation'>):\n",
      "<tf.Operation 'assert_rank_2/Assert/Assert' type=Assert>\n",
      "If you want to mark it as used call its \"mark_used()\" method.\n",
      "It was originally created here:\n",
      "['File \"/home/carnd/anaconda3/envs/tf1.2/lib/python3.6/runpy.py\", line 193, in _run_module_as_main\\n    \"__main__\", mod_spec)', 'File \"/home/carnd/anaconda3/envs/tf1.2/lib/python3.6/runpy.py\", line 85, in _run_code\\n    exec(code, run_globals)', 'File \"/home/carnd/anaconda3/envs/tf1.2/lib/python3.6/site-packages/ipykernel_launcher.py\", line 16, in <module>\\n    app.launch_new_instance()', 'File \"/home/carnd/anaconda3/envs/tf1.2/lib/python3.6/site-packages/traitlets/config/application.py\", line 658, in launch_instance\\n    app.start()', 'File \"/home/carnd/anaconda3/envs/tf1.2/lib/python3.6/site-packages/ipykernel/kernelapp.py\", line 477, in start\\n    ioloop.IOLoop.instance().start()', 'File \"/home/carnd/anaconda3/envs/tf1.2/lib/python3.6/site-packages/zmq/eventloop/ioloop.py\", line 177, in start\\n    super(ZMQIOLoop, self).start()', 'File \"/home/carnd/anaconda3/envs/tf1.2/lib/python3.6/site-packages/tornado/ioloop.py\", line 888, in start\\n    handler_func(fd_obj, events)', 'File \"/home/carnd/anaconda3/envs/tf1.2/lib/python3.6/site-packages/tornado/stack_context.py\", line 277, in null_wrapper\\n    return fn(*args, **kwargs)', 'File \"/home/carnd/anaconda3/envs/tf1.2/lib/python3.6/site-packages/zmq/eventloop/zmqstream.py\", line 440, in _handle_events\\n    self._handle_recv()', 'File \"/home/carnd/anaconda3/envs/tf1.2/lib/python3.6/site-packages/zmq/eventloop/zmqstream.py\", line 472, in _handle_recv\\n    self._run_callback(callback, msg)', 'File \"/home/carnd/anaconda3/envs/tf1.2/lib/python3.6/site-packages/zmq/eventloop/zmqstream.py\", line 414, in _run_callback\\n    callback(*args, **kwargs)', 'File \"/home/carnd/anaconda3/envs/tf1.2/lib/python3.6/site-packages/tornado/stack_context.py\", line 277, in null_wrapper\\n    return fn(*args, **kwargs)', 'File \"/home/carnd/anaconda3/envs/tf1.2/lib/python3.6/site-packages/ipykernel/kernelbase.py\", line 283, in dispatcher\\n    return self.dispatch_shell(stream, msg)', 'File \"/home/carnd/anaconda3/envs/tf1.2/lib/python3.6/site-packages/ipykernel/kernelbase.py\", line 235, in dispatch_shell\\n    handler(stream, idents, msg)', 'File \"/home/carnd/anaconda3/envs/tf1.2/lib/python3.6/site-packages/ipykernel/kernelbase.py\", line 399, in execute_request\\n    user_expressions, allow_stdin)', 'File \"/home/carnd/anaconda3/envs/tf1.2/lib/python3.6/site-packages/ipykernel/ipkernel.py\", line 196, in do_execute\\n    res = shell.run_cell(code, store_history=store_history, silent=silent)', 'File \"/home/carnd/anaconda3/envs/tf1.2/lib/python3.6/site-packages/ipykernel/zmqshell.py\", line 533, in run_cell\\n    return super(ZMQInteractiveShell, self).run_cell(*args, **kwargs)', 'File \"/home/carnd/anaconda3/envs/tf1.2/lib/python3.6/site-packages/IPython/core/interactiveshell.py\", line 2698, in run_cell\\n    interactivity=interactivity, compiler=compiler, result=result)', 'File \"/home/carnd/anaconda3/envs/tf1.2/lib/python3.6/site-packages/IPython/core/interactiveshell.py\", line 2808, in run_ast_nodes\\n    if self.run_code(code, result):', 'File \"/home/carnd/anaconda3/envs/tf1.2/lib/python3.6/site-packages/IPython/core/interactiveshell.py\", line 2862, in run_code\\n    exec(code_obj, self.user_global_ns, self.user_ns)', 'File \"<ipython-input-7-b9953ee1b309>\", line 23, in <module>\\n    tests.test_model_inputs(model_inputs)', 'File \"/home/carnd/deep-learning/language-translation/problem_unittests.py\", line 106, in test_model_inputs\\n    assert tf.assert_rank(lr, 0, message=\\'Learning Rate has wrong rank\\')', 'File \"/home/carnd/anaconda3/envs/tf1.2/lib/python3.6/site-packages/tensorflow/python/ops/check_ops.py\", line 617, in assert_rank\\n    dynamic_condition, data, summarize)', 'File \"/home/carnd/anaconda3/envs/tf1.2/lib/python3.6/site-packages/tensorflow/python/ops/check_ops.py\", line 571, in _assert_rank_condition\\n    return control_flow_ops.Assert(condition, data, summarize=summarize)', 'File \"/home/carnd/anaconda3/envs/tf1.2/lib/python3.6/site-packages/tensorflow/python/util/tf_should_use.py\", line 170, in wrapped\\n    return _add_should_use_warning(fn(*args, **kwargs))', 'File \"/home/carnd/anaconda3/envs/tf1.2/lib/python3.6/site-packages/tensorflow/python/util/tf_should_use.py\", line 139, in _add_should_use_warning\\n    wrapped = TFShouldUseWarningWrapper(x)', 'File \"/home/carnd/anaconda3/envs/tf1.2/lib/python3.6/site-packages/tensorflow/python/util/tf_should_use.py\", line 96, in __init__\\n    stack = [s.strip() for s in traceback.format_stack()]']\n",
      "==================================\n",
      "ERROR:tensorflow:==================================\n",
      "Object was never used (type <class 'tensorflow.python.framework.ops.Operation'>):\n",
      "<tf.Operation 'assert_rank_3/Assert/Assert' type=Assert>\n",
      "If you want to mark it as used call its \"mark_used()\" method.\n",
      "It was originally created here:\n",
      "['File \"/home/carnd/anaconda3/envs/tf1.2/lib/python3.6/runpy.py\", line 193, in _run_module_as_main\\n    \"__main__\", mod_spec)', 'File \"/home/carnd/anaconda3/envs/tf1.2/lib/python3.6/runpy.py\", line 85, in _run_code\\n    exec(code, run_globals)', 'File \"/home/carnd/anaconda3/envs/tf1.2/lib/python3.6/site-packages/ipykernel_launcher.py\", line 16, in <module>\\n    app.launch_new_instance()', 'File \"/home/carnd/anaconda3/envs/tf1.2/lib/python3.6/site-packages/traitlets/config/application.py\", line 658, in launch_instance\\n    app.start()', 'File \"/home/carnd/anaconda3/envs/tf1.2/lib/python3.6/site-packages/ipykernel/kernelapp.py\", line 477, in start\\n    ioloop.IOLoop.instance().start()', 'File \"/home/carnd/anaconda3/envs/tf1.2/lib/python3.6/site-packages/zmq/eventloop/ioloop.py\", line 177, in start\\n    super(ZMQIOLoop, self).start()', 'File \"/home/carnd/anaconda3/envs/tf1.2/lib/python3.6/site-packages/tornado/ioloop.py\", line 888, in start\\n    handler_func(fd_obj, events)', 'File \"/home/carnd/anaconda3/envs/tf1.2/lib/python3.6/site-packages/tornado/stack_context.py\", line 277, in null_wrapper\\n    return fn(*args, **kwargs)', 'File \"/home/carnd/anaconda3/envs/tf1.2/lib/python3.6/site-packages/zmq/eventloop/zmqstream.py\", line 440, in _handle_events\\n    self._handle_recv()', 'File \"/home/carnd/anaconda3/envs/tf1.2/lib/python3.6/site-packages/zmq/eventloop/zmqstream.py\", line 472, in _handle_recv\\n    self._run_callback(callback, msg)', 'File \"/home/carnd/anaconda3/envs/tf1.2/lib/python3.6/site-packages/zmq/eventloop/zmqstream.py\", line 414, in _run_callback\\n    callback(*args, **kwargs)', 'File \"/home/carnd/anaconda3/envs/tf1.2/lib/python3.6/site-packages/tornado/stack_context.py\", line 277, in null_wrapper\\n    return fn(*args, **kwargs)', 'File \"/home/carnd/anaconda3/envs/tf1.2/lib/python3.6/site-packages/ipykernel/kernelbase.py\", line 283, in dispatcher\\n    return self.dispatch_shell(stream, msg)', 'File \"/home/carnd/anaconda3/envs/tf1.2/lib/python3.6/site-packages/ipykernel/kernelbase.py\", line 235, in dispatch_shell\\n    handler(stream, idents, msg)', 'File \"/home/carnd/anaconda3/envs/tf1.2/lib/python3.6/site-packages/ipykernel/kernelbase.py\", line 399, in execute_request\\n    user_expressions, allow_stdin)', 'File \"/home/carnd/anaconda3/envs/tf1.2/lib/python3.6/site-packages/ipykernel/ipkernel.py\", line 196, in do_execute\\n    res = shell.run_cell(code, store_history=store_history, silent=silent)', 'File \"/home/carnd/anaconda3/envs/tf1.2/lib/python3.6/site-packages/ipykernel/zmqshell.py\", line 533, in run_cell\\n    return super(ZMQInteractiveShell, self).run_cell(*args, **kwargs)', 'File \"/home/carnd/anaconda3/envs/tf1.2/lib/python3.6/site-packages/IPython/core/interactiveshell.py\", line 2698, in run_cell\\n    interactivity=interactivity, compiler=compiler, result=result)', 'File \"/home/carnd/anaconda3/envs/tf1.2/lib/python3.6/site-packages/IPython/core/interactiveshell.py\", line 2808, in run_ast_nodes\\n    if self.run_code(code, result):', 'File \"/home/carnd/anaconda3/envs/tf1.2/lib/python3.6/site-packages/IPython/core/interactiveshell.py\", line 2862, in run_code\\n    exec(code_obj, self.user_global_ns, self.user_ns)', 'File \"<ipython-input-7-b9953ee1b309>\", line 23, in <module>\\n    tests.test_model_inputs(model_inputs)', 'File \"/home/carnd/deep-learning/language-translation/problem_unittests.py\", line 107, in test_model_inputs\\n    assert tf.assert_rank(keep_prob, 0, message=\\'Keep Probability has wrong rank\\')', 'File \"/home/carnd/anaconda3/envs/tf1.2/lib/python3.6/site-packages/tensorflow/python/ops/check_ops.py\", line 617, in assert_rank\\n    dynamic_condition, data, summarize)', 'File \"/home/carnd/anaconda3/envs/tf1.2/lib/python3.6/site-packages/tensorflow/python/ops/check_ops.py\", line 571, in _assert_rank_condition\\n    return control_flow_ops.Assert(condition, data, summarize=summarize)', 'File \"/home/carnd/anaconda3/envs/tf1.2/lib/python3.6/site-packages/tensorflow/python/util/tf_should_use.py\", line 170, in wrapped\\n    return _add_should_use_warning(fn(*args, **kwargs))', 'File \"/home/carnd/anaconda3/envs/tf1.2/lib/python3.6/site-packages/tensorflow/python/util/tf_should_use.py\", line 139, in _add_should_use_warning\\n    wrapped = TFShouldUseWarningWrapper(x)', 'File \"/home/carnd/anaconda3/envs/tf1.2/lib/python3.6/site-packages/tensorflow/python/util/tf_should_use.py\", line 96, in __init__\\n    stack = [s.strip() for s in traceback.format_stack()]']\n",
      "==================================\n"
     ]
    },
    {
     "name": "stdout",
     "output_type": "stream",
     "text": [
      "Tests Passed\n"
     ]
    }
   ],
   "source": [
    "def model_inputs():\n",
    "    \"\"\"\n",
    "    Create TF Placeholders for input, targets, learning rate, and lengths of source and target sequences.\n",
    "    :return: Tuple (input, targets, learning rate, keep probability, target sequence length,\n",
    "    max target sequence length, source sequence length)\n",
    "    \"\"\"\n",
    "    # TODO: Implement Function\n",
    "    input_ = tf.placeholder(tf.int32, [None, None], name='input')\n",
    "    targets = tf.placeholder(tf.int32, [None, None], name='targets')\n",
    "    lr = tf.placeholder(tf.float32, name='learning_rate')\n",
    "    keep_prob = tf.placeholder(tf.float32, name='keep_prob')\n",
    "    target_sequence_length = tf.placeholder(tf.int32, (None, ), name='target_sequence_length')\n",
    "    max_target_len = tf.reduce_max(target_sequence_length, name='max_target_len')\n",
    "    source_sequence_length = tf.placeholder(tf.int32, (None, ), name='source_sequence_length')\n",
    "    \n",
    "\n",
    "    return input_, targets, lr, keep_prob, target_sequence_length, max_target_len, source_sequence_length\n",
    "\n",
    "\n",
    "\"\"\"\n",
    "DON'T MODIFY ANYTHING IN THIS CELL THAT IS BELOW THIS LINE\n",
    "\"\"\"\n",
    "tests.test_model_inputs(model_inputs)"
   ]
  },
  {
   "cell_type": "markdown",
   "metadata": {},
   "source": [
    "### Process Decoder Input\n",
    "Implement `process_decoder_input` by removing the last word id from each batch in `target_data` and concat the GO ID to the begining of each batch."
   ]
  },
  {
   "cell_type": "code",
   "execution_count": 10,
   "metadata": {},
   "outputs": [
    {
     "name": "stdout",
     "output_type": "stream",
     "text": [
      "Tests Passed\n"
     ]
    }
   ],
   "source": [
    "def process_decoder_input(target_data, target_vocab_to_int, batch_size):\n",
    "    \"\"\"\n",
    "    Preprocess target data for encoding\n",
    "    :param target_data: Target Placehoder\n",
    "    :param target_vocab_to_int: Dictionary to go from the target words to an id\n",
    "    :param batch_size: Batch Size\n",
    "    :return: Preprocessed target data\n",
    "    \"\"\"\n",
    "    # TODO: Implement Function\n",
    "    ending = tf.strided_slice(target_data, [0, 0], [batch_size, -1], [1,1] )\n",
    "    dec_input = tf.concat([tf.fill([batch_size, 1], target_vocab_to_int['<GO>']), ending ], 1)\n",
    "    return dec_input\n",
    "\n",
    "\"\"\"\n",
    "DON'T MODIFY ANYTHING IN THIS CELL THAT IS BELOW THIS LINE\n",
    "\"\"\"\n",
    "tests.test_process_encoding_input(process_decoder_input)"
   ]
  },
  {
   "cell_type": "markdown",
   "metadata": {},
   "source": [
    "### Encoding\n",
    "Implement `encoding_layer()` to create a Encoder RNN layer:\n",
    " * Embed the encoder input using [`tf.contrib.layers.embed_sequence`](https://www.tensorflow.org/api_docs/python/tf/contrib/layers/embed_sequence)\n",
    " * Construct a [stacked](https://github.com/tensorflow/tensorflow/blob/6947f65a374ebf29e74bb71e36fd82760056d82c/tensorflow/docs_src/tutorials/recurrent.md#stacking-multiple-lstms) [`tf.contrib.rnn.LSTMCell`](https://www.tensorflow.org/api_docs/python/tf/contrib/rnn/LSTMCell) wrapped in a [`tf.contrib.rnn.DropoutWrapper`](https://www.tensorflow.org/api_docs/python/tf/contrib/rnn/DropoutWrapper)\n",
    " * Pass cell and embedded input to [`tf.nn.dynamic_rnn()`](https://www.tensorflow.org/api_docs/python/tf/nn/dynamic_rnn)"
   ]
  },
  {
   "cell_type": "code",
   "execution_count": 11,
   "metadata": {
    "scrolled": false
   },
   "outputs": [
    {
     "name": "stdout",
     "output_type": "stream",
     "text": [
      "Tests Passed\n"
     ]
    }
   ],
   "source": [
    "from imp import reload\n",
    "reload(tests)\n",
    "\n",
    "def encoding_layer(rnn_inputs, rnn_size, num_layers, keep_prob, \n",
    "                   source_sequence_length, source_vocab_size, \n",
    "                   encoding_embedding_size):\n",
    "    \"\"\"\n",
    "    Create encoding layer\n",
    "    :param rnn_inputs: Inputs for the RNN\n",
    "    :param rnn_size: RNN Size\n",
    "    :param num_layers: Number of layers\n",
    "    :param keep_prob: Dropout keep probability\n",
    "    :param source_sequence_length: a list of the lengths of each sequence in the batch\n",
    "    :param source_vocab_size: vocabulary size of source data\n",
    "    :param encoding_embedding_size: embedding size of source data\n",
    "    :return: tuple (RNN output, RNN state)\n",
    "    \"\"\"\n",
    "    # TODO: Implement Function\n",
    "    enc_embed_input = tf.contrib.layers.embed_sequence(rnn_inputs, source_vocab_size, encoding_embedding_size)\n",
    "    \n",
    "    #RNN Cell\n",
    "    def make_cell(rnn_size):\n",
    "        enc_cell = tf.contrib.rnn.LSTMCell(rnn_size, initializer=tf.random_normal_initializer(-0.1, 0.1, seed=2))\n",
    "        enc_cell = tf.contrib.rnn.DropoutWrapper(enc_cell, keep_prob)\n",
    "        return enc_cell\n",
    "    \n",
    "    enc_cell = tf.contrib.rnn.MultiRNNCell([make_cell(rnn_size) for _ in range(num_layers)] )\n",
    "    enc_output, enc_state = tf.nn.dynamic_rnn(enc_cell, enc_embed_input, sequence_length=source_sequence_length, dtype=tf.float32)\n",
    "    return enc_output, enc_state\n",
    "\n",
    "\"\"\"\n",
    "DON'T MODIFY ANYTHING IN THIS CELL THAT IS BELOW THIS LINE\n",
    "\"\"\"\n",
    "tests.test_encoding_layer(encoding_layer)"
   ]
  },
  {
   "cell_type": "markdown",
   "metadata": {},
   "source": [
    "### Decoding - Training\n",
    "Create a training decoding layer:\n",
    "* Create a [`tf.contrib.seq2seq.TrainingHelper`](https://www.tensorflow.org/api_docs/python/tf/contrib/seq2seq/TrainingHelper) \n",
    "* Create a [`tf.contrib.seq2seq.BasicDecoder`](https://www.tensorflow.org/api_docs/python/tf/contrib/seq2seq/BasicDecoder)\n",
    "* Obtain the decoder outputs from [`tf.contrib.seq2seq.dynamic_decode`](https://www.tensorflow.org/api_docs/python/tf/contrib/seq2seq/dynamic_decode)"
   ]
  },
  {
   "cell_type": "code",
   "execution_count": 12,
   "metadata": {},
   "outputs": [
    {
     "name": "stdout",
     "output_type": "stream",
     "text": [
      "Tests Passed\n"
     ]
    }
   ],
   "source": [
    "\n",
    "def decoding_layer_train(encoder_state, dec_cell, dec_embed_input, \n",
    "                         target_sequence_length, max_summary_length, \n",
    "                         output_layer, keep_prob):\n",
    "    \"\"\"\n",
    "    Create a decoding layer for training\n",
    "    :param encoder_state: Encoder State\n",
    "    :param dec_cell: Decoder RNN Cell\n",
    "    :param dec_embed_input: Decoder embedded input\n",
    "    :param target_sequence_length: The lengths of each sequence in the target batch\n",
    "    :param max_summary_length: The length of the longest sequence in the batch\n",
    "    :param output_layer: Function to apply the output layer\n",
    "    :param keep_prob: Dropout keep probability\n",
    "    :return: BasicDecoderOutput containing training logits and sample_id\n",
    "    \"\"\"\n",
    "    # TODO: Implement Function\n",
    "    trainHelper = tf.contrib.seq2seq.TrainingHelper(inputs=dec_embed_input, sequence_length=target_sequence_length, time_major=False)\n",
    "    train_decoder = tf.contrib.seq2seq.BasicDecoder(dec_cell, trainHelper, encoder_state, output_layer)\n",
    "    train_decoder_out = tf.contrib.seq2seq.dynamic_decode(train_decoder, impute_finished=True, maximum_iterations=max_summary_length)[0]\n",
    "    return train_decoder_out\n",
    "\n",
    "\n",
    "\n",
    "\"\"\"\n",
    "DON'T MODIFY ANYTHING IN THIS CELL THAT IS BELOW THIS LINE\n",
    "\"\"\"\n",
    "tests.test_decoding_layer_train(decoding_layer_train)"
   ]
  },
  {
   "cell_type": "markdown",
   "metadata": {},
   "source": [
    "### Decoding - Inference\n",
    "Create inference decoder:\n",
    "* Create a [`tf.contrib.seq2seq.GreedyEmbeddingHelper`](https://www.tensorflow.org/api_docs/python/tf/contrib/seq2seq/GreedyEmbeddingHelper)\n",
    "* Create a [`tf.contrib.seq2seq.BasicDecoder`](https://www.tensorflow.org/api_docs/python/tf/contrib/seq2seq/BasicDecoder)\n",
    "* Obtain the decoder outputs from [`tf.contrib.seq2seq.dynamic_decode`](https://www.tensorflow.org/api_docs/python/tf/contrib/seq2seq/dynamic_decode)"
   ]
  },
  {
   "cell_type": "code",
   "execution_count": 13,
   "metadata": {
    "scrolled": true
   },
   "outputs": [
    {
     "name": "stdout",
     "output_type": "stream",
     "text": [
      "Tests Passed\n"
     ]
    }
   ],
   "source": [
    "def decoding_layer_infer(encoder_state, dec_cell, dec_embeddings, start_of_sequence_id,\n",
    "                         end_of_sequence_id, max_target_sequence_length,\n",
    "                         vocab_size, output_layer, batch_size, keep_prob):\n",
    "    \"\"\"\n",
    "    Create a decoding layer for inference\n",
    "    :param encoder_state: Encoder state\n",
    "    :param dec_cell: Decoder RNN Cell\n",
    "    :param dec_embeddings: Decoder embeddings\n",
    "    :param start_of_sequence_id: GO ID\n",
    "    :param end_of_sequence_id: EOS Id\n",
    "    :param max_target_sequence_length: Maximum length of target sequences\n",
    "    :param vocab_size: Size of decoder/target vocabulary\n",
    "    :param decoding_scope: TenorFlow Variable Scope for decoding\n",
    "    :param output_layer: Function to apply the output layer\n",
    "    :param batch_size: Batch size\n",
    "    :param keep_prob: Dropout keep probability\n",
    "    :return: BasicDecoderOutput containing inference logits and sample_id\n",
    "    \"\"\"\n",
    "    # TODO: Implement Function\n",
    "    #start_tile = tf.tile(tf.constant(start_of_sequence_id,dtype=tf.int32), [batch_size])\n",
    "    #start_tokens = np.array([start_of_sequence_id] * batch_size)[None:]\n",
    "    start_tokens = tf.tile(tf.constant([start_of_sequence_id], dtype=tf.int32), [batch_size], name='start_tokens')\n",
    "\n",
    "    inference_helper = tf.contrib.seq2seq.GreedyEmbeddingHelper(dec_embeddings, start_tokens, end_of_sequence_id)\n",
    "    \n",
    "    inference_decoder = tf.contrib.seq2seq.BasicDecoder(dec_cell, inference_helper, encoder_state, output_layer)\n",
    "   \n",
    "    inference_decoder_output = tf.contrib.seq2seq.dynamic_decode(inference_decoder, \n",
    "                                                                 impute_finished=True,\n",
    "                                                                 maximum_iterations=max_target_sequence_length)[0]\n",
    "    \n",
    "    return inference_decoder_output\n",
    "\n",
    "\n",
    "\n",
    "\"\"\"\n",
    "DON'T MODIFY ANYTHING IN THIS CELL THAT IS BELOW THIS LINE\n",
    "\"\"\"\n",
    "tests.test_decoding_layer_infer(decoding_layer_infer)"
   ]
  },
  {
   "cell_type": "markdown",
   "metadata": {},
   "source": [
    "### Build the Decoding Layer\n",
    "Implement `decoding_layer()` to create a Decoder RNN layer.\n",
    "\n",
    "* Embed the target sequences\n",
    "* Construct the decoder LSTM cell (just like you constructed the encoder cell above)\n",
    "* Create an output layer to map the outputs of the decoder to the elements of our vocabulary\n",
    "* Use the your `decoding_layer_train(encoder_state, dec_cell, dec_embed_input, target_sequence_length, max_target_sequence_length, output_layer, keep_prob)` function to get the training logits.\n",
    "* Use your `decoding_layer_infer(encoder_state, dec_cell, dec_embeddings, start_of_sequence_id, end_of_sequence_id, max_target_sequence_length, vocab_size, output_layer, batch_size, keep_prob)` function to get the inference logits.\n",
    "\n",
    "Note: You'll need to use [tf.variable_scope](https://www.tensorflow.org/api_docs/python/tf/variable_scope) to share variables between training and inference."
   ]
  },
  {
   "cell_type": "code",
   "execution_count": 14,
   "metadata": {},
   "outputs": [
    {
     "name": "stdout",
     "output_type": "stream",
     "text": [
      "Tests Passed\n"
     ]
    }
   ],
   "source": [
    "def decoding_layer(dec_input, encoder_state,\n",
    "                   target_sequence_length, max_target_sequence_length,\n",
    "                   rnn_size,\n",
    "                   num_layers, target_vocab_to_int, target_vocab_size,\n",
    "                   batch_size, keep_prob, decoding_embedding_size):\n",
    "    \"\"\"\n",
    "    Create decoding layer\n",
    "    :param dec_input: Decoder input\n",
    "    :param encoder_state: Encoder state\n",
    "    :param target_sequence_length: The lengths of each sequence in the target batch\n",
    "    :param max_target_sequence_length: Maximum length of target sequences\n",
    "    :param rnn_size: RNN Size\n",
    "    :param num_layers: Number of layers\n",
    "    :param target_vocab_to_int: Dictionary to go from the target words to an id\n",
    "    :param target_vocab_size: Size of target vocabulary\n",
    "    :param batch_size: The size of the batch\n",
    "    :param keep_prob: Dropout keep probability\n",
    "    :param decoding_embedding_size: Decoding embedding size\n",
    "    :return: Tuple of (Training BasicDecoderOutput, Inference BasicDecoderOutput)\n",
    "    \"\"\"\n",
    "    # TODO: Implement Function\n",
    "    #   1. building decoder_embedding\n",
    "    dec_embeddings = tf.Variable(tf.random_uniform([target_vocab_size, decoding_embedding_size]))\n",
    "    dec_embed_input = tf.nn.embedding_lookup(dec_embeddings, dec_input)\n",
    "    \n",
    "    #   2. construct decoder cell\n",
    "    def make_cell(rnn_size):\n",
    "        dec_cell = tf.contrib.rnn.LSTMCell(rnn_size, initializer=tf.random_uniform_initializer(-0.1, 0.1, seed=2))\n",
    "        dec_cell = tf.contrib.rnn.DropoutWrapper(dec_cell, keep_prob)\n",
    "        return dec_cell\n",
    "    \n",
    "    dec_cell = tf.contrib.rnn.MultiRNNCell([make_cell(rnn_size) for _ in range(num_layers)])\n",
    "    \n",
    "    #  3. construct output layer\n",
    "    output_layer = Dense(target_vocab_size, kernel_initializer=tf.random_normal_initializer(mean=0.0, stddev=0.1))\n",
    "    \n",
    "    #  4 & 5  get (Training BasicDecoderOutput, Inference BasicDecoderOutput)、\n",
    "    with tf.variable_scope('decode'):\n",
    "        training_decoder_output = decoding_layer_train(encoder_state, dec_cell, dec_embed_input, \n",
    "                             target_sequence_length, max_target_sequence_length, output_layer, keep_prob)\n",
    "    \n",
    "    with tf.variable_scope('decode', reuse=True):\n",
    "        inference_decoder_output = decoding_layer_infer(encoder_state, dec_cell, dec_embeddings, target_vocab_to_int['<GO>'], \n",
    "                             target_vocab_to_int['<EOS>'], max_target_sequence_length, target_vocab_size, output_layer, batch_size, keep_prob)\n",
    "   \n",
    "    return training_decoder_output, inference_decoder_output\n",
    "\n",
    "\n",
    "\n",
    "\"\"\"\n",
    "DON'T MODIFY ANYTHING IN THIS CELL THAT IS BELOW THIS LINE\n",
    "\"\"\"\n",
    "tests.test_decoding_layer(decoding_layer)"
   ]
  },
  {
   "cell_type": "markdown",
   "metadata": {},
   "source": [
    "### Build the Neural Network\n",
    "Apply the functions you implemented above to:\n",
    "\n",
    "- Encode the input using your `encoding_layer(rnn_inputs, rnn_size, num_layers, keep_prob,  source_sequence_length, source_vocab_size, encoding_embedding_size)`.\n",
    "- Process target data using your `process_decoder_input(target_data, target_vocab_to_int, batch_size)` function.\n",
    "- Decode the encoded input using your `decoding_layer(dec_input, enc_state, target_sequence_length, max_target_sentence_length, rnn_size, num_layers, target_vocab_to_int, target_vocab_size, batch_size, keep_prob, dec_embedding_size)` function."
   ]
  },
  {
   "cell_type": "code",
   "execution_count": 15,
   "metadata": {},
   "outputs": [
    {
     "name": "stdout",
     "output_type": "stream",
     "text": [
      "Tests Passed\n"
     ]
    }
   ],
   "source": [
    "def seq2seq_model(input_data, target_data, keep_prob, batch_size,\n",
    "                  source_sequence_length, target_sequence_length,\n",
    "                  max_target_sentence_length,\n",
    "                  source_vocab_size, target_vocab_size,\n",
    "                  enc_embedding_size, dec_embedding_size,\n",
    "                  rnn_size, num_layers, target_vocab_to_int):\n",
    "    \"\"\"\n",
    "    Build the Sequence-to-Sequence part of the neural network\n",
    "    :param input_data: Input placeholder\n",
    "    :param target_data: Target placeholder\n",
    "    :param keep_prob: Dropout keep probability placeholder\n",
    "    :param batch_size: Batch Size\n",
    "    :param source_sequence_length: Sequence Lengths of source sequences in the batch\n",
    "    :param target_sequence_length: Sequence Lengths of target sequences in the batch\n",
    "    :param source_vocab_size: Source vocabulary size\n",
    "    :param target_vocab_size: Target vocabulary size\n",
    "    :param enc_embedding_size: Encoder embedding size\n",
    "    :param dec_embedding_size: Decoder embedding size\n",
    "    :param rnn_size: RNN Size\n",
    "    :param num_layers: Number of layers\n",
    "    :param target_vocab_to_int: Dictionary to go from the target words to an id\n",
    "    :return: Tuple of (Training BasicDecoderOutput, Inference BasicDecoderOutput)\n",
    "    \"\"\"\n",
    "    # TODO: Implement Function\n",
    "    _, enc_state = encoding_layer(input_data, rnn_size, num_layers, keep_prob, \n",
    "                   source_sequence_length, source_vocab_size, \n",
    "                   enc_embedding_size)\n",
    "    \n",
    "    dec_input = process_decoder_input(target_data, target_vocab_to_int, batch_size)\n",
    "    \n",
    "    train_decoder_output, inference_decoder_output = decoding_layer(dec_input, enc_state, target_sequence_length, \n",
    "                                                                    max_target_sentence_length, rnn_size,num_layers, \n",
    "                                                                    target_vocab_to_int, target_vocab_size, batch_size, \n",
    "                                                                    keep_prob, dec_embedding_size)\n",
    "    return train_decoder_output, inference_decoder_output\n",
    "\n",
    "\n",
    "\"\"\"\n",
    "DON'T MODIFY ANYTHING IN THIS CELL THAT IS BELOW THIS LINE\n",
    "\"\"\"\n",
    "tests.test_seq2seq_model(seq2seq_model)"
   ]
  },
  {
   "cell_type": "markdown",
   "metadata": {},
   "source": [
    "## Neural Network Training\n",
    "### Hyperparameters\n",
    "Tune the following parameters:\n",
    "\n",
    "- Set `epochs` to the number of epochs.\n",
    "- Set `batch_size` to the batch size.\n",
    "- Set `rnn_size` to the size of the RNNs.\n",
    "- Set `num_layers` to the number of layers.\n",
    "- Set `encoding_embedding_size` to the size of the embedding for the encoder.\n",
    "- Set `decoding_embedding_size` to the size of the embedding for the decoder.\n",
    "- Set `learning_rate` to the learning rate.\n",
    "- Set `keep_probability` to the Dropout keep probability\n",
    "- Set `display_step` to state how many steps between each debug output statement"
   ]
  },
  {
   "cell_type": "code",
   "execution_count": 20,
   "metadata": {
    "collapsed": true
   },
   "outputs": [],
   "source": [
    "# Number of Epochs\n",
    "epochs = 10\n",
    "# Batch Size\n",
    "batch_size = 128\n",
    "# RNN Size\n",
    "rnn_size = 128\n",
    "# Number of Layers\n",
    "num_layers = 2\n",
    "# Embedding Size\n",
    "encoding_embedding_size = 256\n",
    "decoding_embedding_size = 256\n",
    "# Learning Rate\n",
    "learning_rate = 0.001\n",
    "# Dropout Keep Probability\n",
    "keep_probability = 0.8\n",
    "display_step = 50"
   ]
  },
  {
   "cell_type": "markdown",
   "metadata": {},
   "source": [
    "### Build the Graph\n",
    "Build the graph using the neural network you implemented."
   ]
  },
  {
   "cell_type": "code",
   "execution_count": 21,
   "metadata": {
    "collapsed": true
   },
   "outputs": [],
   "source": [
    "\"\"\"\n",
    "DON'T MODIFY ANYTHING IN THIS CELL\n",
    "\"\"\"\n",
    "save_path = 'checkpoints/dev'\n",
    "(source_int_text, target_int_text), (source_vocab_to_int, target_vocab_to_int), _ = helper.load_preprocess()\n",
    "max_target_sentence_length = max([len(sentence) for sentence in source_int_text])\n",
    "\n",
    "train_graph = tf.Graph()\n",
    "with train_graph.as_default():\n",
    "    input_data, targets, lr, keep_prob, target_sequence_length, max_target_sequence_length, source_sequence_length = model_inputs()\n",
    "\n",
    "    #sequence_length = tf.placeholder_with_default(max_target_sentence_length, None, name='sequence_length')\n",
    "    input_shape = tf.shape(input_data)\n",
    "\n",
    "    train_logits, inference_logits = seq2seq_model(tf.reverse(input_data, [-1]),\n",
    "                                                   targets,\n",
    "                                                   keep_prob,\n",
    "                                                   batch_size,\n",
    "                                                   source_sequence_length,\n",
    "                                                   target_sequence_length,\n",
    "                                                   max_target_sequence_length,\n",
    "                                                   len(source_vocab_to_int),\n",
    "                                                   len(target_vocab_to_int),\n",
    "                                                   encoding_embedding_size,\n",
    "                                                   decoding_embedding_size,\n",
    "                                                   rnn_size,\n",
    "                                                   num_layers,\n",
    "                                                   target_vocab_to_int)\n",
    "\n",
    "\n",
    "    training_logits = tf.identity(train_logits.rnn_output, name='logits')\n",
    "    inference_logits = tf.identity(inference_logits.sample_id, name='predictions')\n",
    "\n",
    "    masks = tf.sequence_mask(target_sequence_length, max_target_sequence_length, dtype=tf.float32, name='masks')\n",
    "\n",
    "    with tf.name_scope(\"optimization\"):\n",
    "        # Loss function\n",
    "        cost = tf.contrib.seq2seq.sequence_loss(\n",
    "            training_logits,\n",
    "            targets,\n",
    "            masks)\n",
    "\n",
    "        # Optimizer\n",
    "        optimizer = tf.train.AdamOptimizer(lr)\n",
    "\n",
    "        # Gradient Clipping\n",
    "        gradients = optimizer.compute_gradients(cost)\n",
    "        capped_gradients = [(tf.clip_by_value(grad, -1., 1.), var) for grad, var in gradients if grad is not None]\n",
    "        train_op = optimizer.apply_gradients(capped_gradients)\n"
   ]
  },
  {
   "cell_type": "markdown",
   "metadata": {},
   "source": [
    "Batch and pad the source and target sequences"
   ]
  },
  {
   "cell_type": "code",
   "execution_count": 22,
   "metadata": {
    "collapsed": true
   },
   "outputs": [],
   "source": [
    "\"\"\"\n",
    "DON'T MODIFY ANYTHING IN THIS CELL\n",
    "\"\"\"\n",
    "def pad_sentence_batch(sentence_batch, pad_int):\n",
    "    \"\"\"Pad sentences with <PAD> so that each sentence of a batch has the same length\"\"\"\n",
    "    max_sentence = max([len(sentence) for sentence in sentence_batch])\n",
    "    return [sentence + [pad_int] * (max_sentence - len(sentence)) for sentence in sentence_batch]\n",
    "\n",
    "\n",
    "def get_batches(sources, targets, batch_size, source_pad_int, target_pad_int):\n",
    "    \"\"\"Batch targets, sources, and the lengths of their sentences together\"\"\"\n",
    "    for batch_i in range(0, len(sources)//batch_size):\n",
    "        start_i = batch_i * batch_size\n",
    "\n",
    "        # Slice the right amount for the batch\n",
    "        sources_batch = sources[start_i:start_i + batch_size]\n",
    "        targets_batch = targets[start_i:start_i + batch_size]\n",
    "\n",
    "        # Pad\n",
    "        pad_sources_batch = np.array(pad_sentence_batch(sources_batch, source_pad_int))\n",
    "        pad_targets_batch = np.array(pad_sentence_batch(targets_batch, target_pad_int))\n",
    "\n",
    "        # Need the lengths for the _lengths parameters\n",
    "        pad_targets_lengths = []\n",
    "        for target in pad_targets_batch:\n",
    "            pad_targets_lengths.append(len(target))\n",
    "\n",
    "        pad_source_lengths = []\n",
    "        for source in pad_sources_batch:\n",
    "            pad_source_lengths.append(len(source))\n",
    "\n",
    "        yield pad_sources_batch, pad_targets_batch, pad_source_lengths, pad_targets_lengths\n"
   ]
  },
  {
   "cell_type": "markdown",
   "metadata": {},
   "source": [
    "### Train\n",
    "Train the neural network on the preprocessed data. If you have a hard time getting a good loss, check the forms to see if anyone is having the same problem."
   ]
  },
  {
   "cell_type": "code",
   "execution_count": 23,
   "metadata": {
    "scrolled": true
   },
   "outputs": [
    {
     "name": "stdout",
     "output_type": "stream",
     "text": [
      "Epoch   0 Batch   50/1077 - Train Accuracy: 0.2859, Validation Accuracy: 0.3491, Loss: 3.1748\n",
      "Epoch   0 Batch  100/1077 - Train Accuracy: 0.3355, Validation Accuracy: 0.4130, Loss: 2.5916\n",
      "Epoch   0 Batch  150/1077 - Train Accuracy: 0.3817, Validation Accuracy: 0.4293, Loss: 1.9392\n",
      "Epoch   0 Batch  200/1077 - Train Accuracy: 0.3977, Validation Accuracy: 0.4435, Loss: 1.6359\n",
      "Epoch   0 Batch  250/1077 - Train Accuracy: 0.4272, Validation Accuracy: 0.4517, Loss: 1.2670\n",
      "Epoch   0 Batch  300/1077 - Train Accuracy: 0.3861, Validation Accuracy: 0.4656, Loss: 1.2572\n",
      "Epoch   0 Batch  350/1077 - Train Accuracy: 0.4391, Validation Accuracy: 0.4883, Loss: 1.1278\n",
      "Epoch   0 Batch  400/1077 - Train Accuracy: 0.5023, Validation Accuracy: 0.5234, Loss: 0.9682\n",
      "Epoch   0 Batch  450/1077 - Train Accuracy: 0.4859, Validation Accuracy: 0.5060, Loss: 0.9075\n",
      "Epoch   0 Batch  500/1077 - Train Accuracy: 0.4938, Validation Accuracy: 0.5234, Loss: 0.8494\n",
      "Epoch   0 Batch  550/1077 - Train Accuracy: 0.4547, Validation Accuracy: 0.5302, Loss: 0.8487\n",
      "Epoch   0 Batch  600/1077 - Train Accuracy: 0.5205, Validation Accuracy: 0.5312, Loss: 0.7326\n",
      "Epoch   0 Batch  650/1077 - Train Accuracy: 0.5070, Validation Accuracy: 0.5415, Loss: 0.7737\n",
      "Epoch   0 Batch  700/1077 - Train Accuracy: 0.5145, Validation Accuracy: 0.5263, Loss: 0.7283\n",
      "Epoch   0 Batch  750/1077 - Train Accuracy: 0.5207, Validation Accuracy: 0.5675, Loss: 0.7077\n",
      "Epoch   0 Batch  800/1077 - Train Accuracy: 0.5402, Validation Accuracy: 0.5717, Loss: 0.6935\n",
      "Epoch   0 Batch  850/1077 - Train Accuracy: 0.5324, Validation Accuracy: 0.5749, Loss: 0.7159\n",
      "Epoch   0 Batch  900/1077 - Train Accuracy: 0.5672, Validation Accuracy: 0.6069, Loss: 0.6663\n",
      "Epoch   0 Batch  950/1077 - Train Accuracy: 0.5748, Validation Accuracy: 0.6119, Loss: 0.6044\n",
      "Epoch   0 Batch 1000/1077 - Train Accuracy: 0.6410, Validation Accuracy: 0.6143, Loss: 0.5664\n",
      "Epoch   0 Batch 1050/1077 - Train Accuracy: 0.5492, Validation Accuracy: 0.5874, Loss: 0.5932\n",
      "Epoch   1 Batch   50/1077 - Train Accuracy: 0.5773, Validation Accuracy: 0.6225, Loss: 0.5731\n",
      "Epoch   1 Batch  100/1077 - Train Accuracy: 0.6488, Validation Accuracy: 0.6520, Loss: 0.5576\n",
      "Epoch   1 Batch  150/1077 - Train Accuracy: 0.6559, Validation Accuracy: 0.6456, Loss: 0.5068\n",
      "Epoch   1 Batch  200/1077 - Train Accuracy: 0.6156, Validation Accuracy: 0.6609, Loss: 0.5378\n",
      "Epoch   1 Batch  250/1077 - Train Accuracy: 0.6236, Validation Accuracy: 0.6729, Loss: 0.4706\n",
      "Epoch   1 Batch  300/1077 - Train Accuracy: 0.6283, Validation Accuracy: 0.6630, Loss: 0.5064\n",
      "Epoch   1 Batch  350/1077 - Train Accuracy: 0.6215, Validation Accuracy: 0.6697, Loss: 0.4937\n",
      "Epoch   1 Batch  400/1077 - Train Accuracy: 0.6531, Validation Accuracy: 0.6733, Loss: 0.4914\n",
      "Epoch   1 Batch  450/1077 - Train Accuracy: 0.5906, Validation Accuracy: 0.6527, Loss: 0.4632\n",
      "Epoch   1 Batch  500/1077 - Train Accuracy: 0.6523, Validation Accuracy: 0.6637, Loss: 0.4543\n",
      "Epoch   1 Batch  550/1077 - Train Accuracy: 0.6391, Validation Accuracy: 0.6839, Loss: 0.4706\n",
      "Epoch   1 Batch  600/1077 - Train Accuracy: 0.6778, Validation Accuracy: 0.6708, Loss: 0.4217\n",
      "Epoch   1 Batch  650/1077 - Train Accuracy: 0.6145, Validation Accuracy: 0.6793, Loss: 0.4389\n",
      "Epoch   1 Batch  700/1077 - Train Accuracy: 0.6492, Validation Accuracy: 0.6850, Loss: 0.4231\n",
      "Epoch   1 Batch  750/1077 - Train Accuracy: 0.6785, Validation Accuracy: 0.6765, Loss: 0.4167\n",
      "Epoch   1 Batch  800/1077 - Train Accuracy: 0.6672, Validation Accuracy: 0.6932, Loss: 0.4257\n",
      "Epoch   1 Batch  850/1077 - Train Accuracy: 0.6529, Validation Accuracy: 0.6832, Loss: 0.4188\n",
      "Epoch   1 Batch  900/1077 - Train Accuracy: 0.7145, Validation Accuracy: 0.6932, Loss: 0.3952\n",
      "Epoch   1 Batch  950/1077 - Train Accuracy: 0.6704, Validation Accuracy: 0.6793, Loss: 0.3778\n",
      "Epoch   1 Batch 1000/1077 - Train Accuracy: 0.6994, Validation Accuracy: 0.6790, Loss: 0.3656\n",
      "Epoch   1 Batch 1050/1077 - Train Accuracy: 0.6535, Validation Accuracy: 0.7024, Loss: 0.3792\n",
      "Epoch   2 Batch   50/1077 - Train Accuracy: 0.6852, Validation Accuracy: 0.7081, Loss: 0.3615\n",
      "Epoch   2 Batch  100/1077 - Train Accuracy: 0.7047, Validation Accuracy: 0.7127, Loss: 0.3544\n",
      "Epoch   2 Batch  150/1077 - Train Accuracy: 0.7206, Validation Accuracy: 0.7010, Loss: 0.3214\n",
      "Epoch   2 Batch  200/1077 - Train Accuracy: 0.6969, Validation Accuracy: 0.7067, Loss: 0.3603\n",
      "Epoch   2 Batch  250/1077 - Train Accuracy: 0.7191, Validation Accuracy: 0.7166, Loss: 0.3012\n",
      "Epoch   2 Batch  300/1077 - Train Accuracy: 0.7167, Validation Accuracy: 0.7148, Loss: 0.3277\n",
      "Epoch   2 Batch  350/1077 - Train Accuracy: 0.7117, Validation Accuracy: 0.7102, Loss: 0.3218\n",
      "Epoch   2 Batch  400/1077 - Train Accuracy: 0.7551, Validation Accuracy: 0.7468, Loss: 0.3196\n",
      "Epoch   2 Batch  450/1077 - Train Accuracy: 0.7543, Validation Accuracy: 0.7557, Loss: 0.2885\n",
      "Epoch   2 Batch  500/1077 - Train Accuracy: 0.7637, Validation Accuracy: 0.7678, Loss: 0.2964\n",
      "Epoch   2 Batch  550/1077 - Train Accuracy: 0.7465, Validation Accuracy: 0.7724, Loss: 0.2930\n",
      "Epoch   2 Batch  600/1077 - Train Accuracy: 0.7846, Validation Accuracy: 0.7798, Loss: 0.2617\n",
      "Epoch   2 Batch  650/1077 - Train Accuracy: 0.7922, Validation Accuracy: 0.7827, Loss: 0.2674\n",
      "Epoch   2 Batch  700/1077 - Train Accuracy: 0.8031, Validation Accuracy: 0.7869, Loss: 0.2469\n",
      "Epoch   2 Batch  750/1077 - Train Accuracy: 0.8086, Validation Accuracy: 0.7915, Loss: 0.2468\n",
      "Epoch   2 Batch  800/1077 - Train Accuracy: 0.8246, Validation Accuracy: 0.7926, Loss: 0.2439\n",
      "Epoch   2 Batch  850/1077 - Train Accuracy: 0.7861, Validation Accuracy: 0.8161, Loss: 0.2485\n",
      "Epoch   2 Batch  900/1077 - Train Accuracy: 0.8305, Validation Accuracy: 0.8171, Loss: 0.2277\n",
      "Epoch   2 Batch  950/1077 - Train Accuracy: 0.8136, Validation Accuracy: 0.8050, Loss: 0.2092\n",
      "Epoch   2 Batch 1000/1077 - Train Accuracy: 0.8099, Validation Accuracy: 0.7962, Loss: 0.2093\n",
      "Epoch   2 Batch 1050/1077 - Train Accuracy: 0.8512, Validation Accuracy: 0.8278, Loss: 0.2048\n",
      "Epoch   3 Batch   50/1077 - Train Accuracy: 0.8730, Validation Accuracy: 0.8295, Loss: 0.1810\n",
      "Epoch   3 Batch  100/1077 - Train Accuracy: 0.8570, Validation Accuracy: 0.8313, Loss: 0.1867\n",
      "Epoch   3 Batch  150/1077 - Train Accuracy: 0.8464, Validation Accuracy: 0.8157, Loss: 0.1724\n",
      "Epoch   3 Batch  200/1077 - Train Accuracy: 0.8547, Validation Accuracy: 0.8501, Loss: 0.1905\n",
      "Epoch   3 Batch  250/1077 - Train Accuracy: 0.8668, Validation Accuracy: 0.8473, Loss: 0.1579\n",
      "Epoch   3 Batch  300/1077 - Train Accuracy: 0.8919, Validation Accuracy: 0.8363, Loss: 0.1643\n",
      "Epoch   3 Batch  350/1077 - Train Accuracy: 0.8734, Validation Accuracy: 0.8374, Loss: 0.1654\n",
      "Epoch   3 Batch  400/1077 - Train Accuracy: 0.8852, Validation Accuracy: 0.8562, Loss: 0.1649\n",
      "Epoch   3 Batch  450/1077 - Train Accuracy: 0.8770, Validation Accuracy: 0.8466, Loss: 0.1442\n",
      "Epoch   3 Batch  500/1077 - Train Accuracy: 0.8793, Validation Accuracy: 0.8278, Loss: 0.1459\n",
      "Epoch   3 Batch  550/1077 - Train Accuracy: 0.8641, Validation Accuracy: 0.8604, Loss: 0.1465\n",
      "Epoch   3 Batch  600/1077 - Train Accuracy: 0.8839, Validation Accuracy: 0.8530, Loss: 0.1387\n",
      "Epoch   3 Batch  650/1077 - Train Accuracy: 0.8730, Validation Accuracy: 0.8846, Loss: 0.1410\n",
      "Epoch   3 Batch  700/1077 - Train Accuracy: 0.9059, Validation Accuracy: 0.8775, Loss: 0.1156\n",
      "Epoch   3 Batch  750/1077 - Train Accuracy: 0.8863, Validation Accuracy: 0.8817, Loss: 0.1228\n",
      "Epoch   3 Batch  800/1077 - Train Accuracy: 0.9078, Validation Accuracy: 0.8913, Loss: 0.1232\n",
      "Epoch   3 Batch  850/1077 - Train Accuracy: 0.8821, Validation Accuracy: 0.8878, Loss: 0.1357\n",
      "Epoch   3 Batch  900/1077 - Train Accuracy: 0.9258, Validation Accuracy: 0.8899, Loss: 0.1148\n",
      "Epoch   3 Batch  950/1077 - Train Accuracy: 0.9044, Validation Accuracy: 0.8970, Loss: 0.1029\n",
      "Epoch   3 Batch 1000/1077 - Train Accuracy: 0.9062, Validation Accuracy: 0.8991, Loss: 0.1072\n",
      "Epoch   3 Batch 1050/1077 - Train Accuracy: 0.9227, Validation Accuracy: 0.9023, Loss: 0.0965\n",
      "Epoch   4 Batch   50/1077 - Train Accuracy: 0.9281, Validation Accuracy: 0.9229, Loss: 0.0890\n",
      "Epoch   4 Batch  100/1077 - Train Accuracy: 0.9121, Validation Accuracy: 0.9137, Loss: 0.0966\n",
      "Epoch   4 Batch  150/1077 - Train Accuracy: 0.9189, Validation Accuracy: 0.9134, Loss: 0.0880\n",
      "Epoch   4 Batch  200/1077 - Train Accuracy: 0.9172, Validation Accuracy: 0.9134, Loss: 0.1001\n"
     ]
    },
    {
     "name": "stdout",
     "output_type": "stream",
     "text": [
      "Epoch   4 Batch  250/1077 - Train Accuracy: 0.9180, Validation Accuracy: 0.9279, Loss: 0.0791\n",
      "Epoch   4 Batch  300/1077 - Train Accuracy: 0.9626, Validation Accuracy: 0.9080, Loss: 0.0793\n",
      "Epoch   4 Batch  350/1077 - Train Accuracy: 0.9332, Validation Accuracy: 0.9141, Loss: 0.0850\n",
      "Epoch   4 Batch  400/1077 - Train Accuracy: 0.9164, Validation Accuracy: 0.9240, Loss: 0.0944\n",
      "Epoch   4 Batch  450/1077 - Train Accuracy: 0.9301, Validation Accuracy: 0.9052, Loss: 0.0672\n",
      "Epoch   4 Batch  500/1077 - Train Accuracy: 0.9434, Validation Accuracy: 0.9176, Loss: 0.0685\n",
      "Epoch   4 Batch  550/1077 - Train Accuracy: 0.9223, Validation Accuracy: 0.9134, Loss: 0.0724\n",
      "Epoch   4 Batch  600/1077 - Train Accuracy: 0.9431, Validation Accuracy: 0.9197, Loss: 0.0653\n",
      "Epoch   4 Batch  650/1077 - Train Accuracy: 0.9313, Validation Accuracy: 0.9212, Loss: 0.0712\n",
      "Epoch   4 Batch  700/1077 - Train Accuracy: 0.9621, Validation Accuracy: 0.9400, Loss: 0.0500\n",
      "Epoch   4 Batch  750/1077 - Train Accuracy: 0.9313, Validation Accuracy: 0.9400, Loss: 0.0623\n",
      "Epoch   4 Batch  800/1077 - Train Accuracy: 0.9500, Validation Accuracy: 0.9421, Loss: 0.0711\n",
      "Epoch   4 Batch  850/1077 - Train Accuracy: 0.9431, Validation Accuracy: 0.9439, Loss: 0.0799\n",
      "Epoch   4 Batch  900/1077 - Train Accuracy: 0.9398, Validation Accuracy: 0.9361, Loss: 0.0706\n",
      "Epoch   4 Batch  950/1077 - Train Accuracy: 0.9438, Validation Accuracy: 0.9375, Loss: 0.0562\n",
      "Epoch   4 Batch 1000/1077 - Train Accuracy: 0.9475, Validation Accuracy: 0.9474, Loss: 0.0561\n",
      "Epoch   4 Batch 1050/1077 - Train Accuracy: 0.9703, Validation Accuracy: 0.9531, Loss: 0.0461\n",
      "Epoch   5 Batch   50/1077 - Train Accuracy: 0.9375, Validation Accuracy: 0.9535, Loss: 0.0512\n",
      "Epoch   5 Batch  100/1077 - Train Accuracy: 0.9453, Validation Accuracy: 0.9442, Loss: 0.0508\n",
      "Epoch   5 Batch  150/1077 - Train Accuracy: 0.9557, Validation Accuracy: 0.9407, Loss: 0.0487\n",
      "Epoch   5 Batch  200/1077 - Train Accuracy: 0.9352, Validation Accuracy: 0.9492, Loss: 0.0521\n",
      "Epoch   5 Batch  250/1077 - Train Accuracy: 0.9549, Validation Accuracy: 0.9350, Loss: 0.0465\n",
      "Epoch   5 Batch  300/1077 - Train Accuracy: 0.9650, Validation Accuracy: 0.9560, Loss: 0.0424\n",
      "Epoch   5 Batch  350/1077 - Train Accuracy: 0.9559, Validation Accuracy: 0.9439, Loss: 0.0458\n",
      "Epoch   5 Batch  400/1077 - Train Accuracy: 0.9477, Validation Accuracy: 0.9432, Loss: 0.0556\n",
      "Epoch   5 Batch  450/1077 - Train Accuracy: 0.9469, Validation Accuracy: 0.9396, Loss: 0.0438\n",
      "Epoch   5 Batch  500/1077 - Train Accuracy: 0.9539, Validation Accuracy: 0.9457, Loss: 0.0393\n",
      "Epoch   5 Batch  550/1077 - Train Accuracy: 0.9324, Validation Accuracy: 0.9371, Loss: 0.0420\n",
      "Epoch   5 Batch  600/1077 - Train Accuracy: 0.9565, Validation Accuracy: 0.9503, Loss: 0.0436\n",
      "Epoch   5 Batch  650/1077 - Train Accuracy: 0.9523, Validation Accuracy: 0.9616, Loss: 0.0446\n",
      "Epoch   5 Batch  700/1077 - Train Accuracy: 0.9805, Validation Accuracy: 0.9588, Loss: 0.0293\n",
      "Epoch   5 Batch  750/1077 - Train Accuracy: 0.9437, Validation Accuracy: 0.9524, Loss: 0.0392\n",
      "Epoch   5 Batch  800/1077 - Train Accuracy: 0.9672, Validation Accuracy: 0.9606, Loss: 0.0420\n",
      "Epoch   5 Batch  850/1077 - Train Accuracy: 0.9528, Validation Accuracy: 0.9684, Loss: 0.0598\n",
      "Epoch   5 Batch  900/1077 - Train Accuracy: 0.9488, Validation Accuracy: 0.9418, Loss: 0.0436\n",
      "Epoch   5 Batch  950/1077 - Train Accuracy: 0.9665, Validation Accuracy: 0.9613, Loss: 0.0350\n",
      "Epoch   5 Batch 1000/1077 - Train Accuracy: 0.9546, Validation Accuracy: 0.9538, Loss: 0.0421\n",
      "Epoch   5 Batch 1050/1077 - Train Accuracy: 0.9723, Validation Accuracy: 0.9588, Loss: 0.0319\n",
      "Epoch   6 Batch   50/1077 - Train Accuracy: 0.9578, Validation Accuracy: 0.9549, Loss: 0.0369\n",
      "Epoch   6 Batch  100/1077 - Train Accuracy: 0.9648, Validation Accuracy: 0.9492, Loss: 0.0345\n",
      "Epoch   6 Batch  150/1077 - Train Accuracy: 0.9501, Validation Accuracy: 0.9634, Loss: 0.0354\n",
      "Epoch   6 Batch  200/1077 - Train Accuracy: 0.9652, Validation Accuracy: 0.9574, Loss: 0.0353\n",
      "Epoch   6 Batch  250/1077 - Train Accuracy: 0.9528, Validation Accuracy: 0.9499, Loss: 0.0352\n",
      "Epoch   6 Batch  300/1077 - Train Accuracy: 0.9688, Validation Accuracy: 0.9560, Loss: 0.0295\n",
      "Epoch   6 Batch  350/1077 - Train Accuracy: 0.9645, Validation Accuracy: 0.9506, Loss: 0.0297\n",
      "Epoch   6 Batch  400/1077 - Train Accuracy: 0.9441, Validation Accuracy: 0.9496, Loss: 0.0441\n",
      "Epoch   6 Batch  450/1077 - Train Accuracy: 0.9613, Validation Accuracy: 0.9382, Loss: 0.0316\n",
      "Epoch   6 Batch  500/1077 - Train Accuracy: 0.9797, Validation Accuracy: 0.9624, Loss: 0.0249\n",
      "Epoch   6 Batch  550/1077 - Train Accuracy: 0.9363, Validation Accuracy: 0.9513, Loss: 0.0342\n",
      "Epoch   6 Batch  600/1077 - Train Accuracy: 0.9565, Validation Accuracy: 0.9620, Loss: 0.0337\n",
      "Epoch   6 Batch  650/1077 - Train Accuracy: 0.9652, Validation Accuracy: 0.9645, Loss: 0.0311\n",
      "Epoch   6 Batch  700/1077 - Train Accuracy: 0.9660, Validation Accuracy: 0.9492, Loss: 0.0253\n",
      "Epoch   6 Batch  750/1077 - Train Accuracy: 0.9543, Validation Accuracy: 0.9556, Loss: 0.0286\n",
      "Epoch   6 Batch  800/1077 - Train Accuracy: 0.9660, Validation Accuracy: 0.9783, Loss: 0.0344\n",
      "Epoch   6 Batch  850/1077 - Train Accuracy: 0.9688, Validation Accuracy: 0.9702, Loss: 0.0488\n",
      "Epoch   6 Batch  900/1077 - Train Accuracy: 0.9656, Validation Accuracy: 0.9542, Loss: 0.0326\n",
      "Epoch   6 Batch  950/1077 - Train Accuracy: 0.9542, Validation Accuracy: 0.9737, Loss: 0.0261\n",
      "Epoch   6 Batch 1000/1077 - Train Accuracy: 0.9684, Validation Accuracy: 0.9702, Loss: 0.0290\n",
      "Epoch   6 Batch 1050/1077 - Train Accuracy: 0.9738, Validation Accuracy: 0.9616, Loss: 0.0217\n",
      "Epoch   7 Batch   50/1077 - Train Accuracy: 0.9723, Validation Accuracy: 0.9656, Loss: 0.0257\n",
      "Epoch   7 Batch  100/1077 - Train Accuracy: 0.9602, Validation Accuracy: 0.9648, Loss: 0.0249\n",
      "Epoch   7 Batch  150/1077 - Train Accuracy: 0.9587, Validation Accuracy: 0.9638, Loss: 0.0268\n",
      "Epoch   7 Batch  200/1077 - Train Accuracy: 0.9621, Validation Accuracy: 0.9673, Loss: 0.0304\n",
      "Epoch   7 Batch  250/1077 - Train Accuracy: 0.9599, Validation Accuracy: 0.9620, Loss: 0.0255\n",
      "Epoch   7 Batch  300/1077 - Train Accuracy: 0.9683, Validation Accuracy: 0.9588, Loss: 0.0241\n",
      "Epoch   7 Batch  350/1077 - Train Accuracy: 0.9598, Validation Accuracy: 0.9677, Loss: 0.0241\n",
      "Epoch   7 Batch  400/1077 - Train Accuracy: 0.9676, Validation Accuracy: 0.9592, Loss: 0.0348\n",
      "Epoch   7 Batch  450/1077 - Train Accuracy: 0.9637, Validation Accuracy: 0.9435, Loss: 0.0309\n",
      "Epoch   7 Batch  500/1077 - Train Accuracy: 0.9734, Validation Accuracy: 0.9567, Loss: 0.0191\n",
      "Epoch   7 Batch  550/1077 - Train Accuracy: 0.9387, Validation Accuracy: 0.9705, Loss: 0.0251\n",
      "Epoch   7 Batch  600/1077 - Train Accuracy: 0.9661, Validation Accuracy: 0.9652, Loss: 0.0273\n",
      "Epoch   7 Batch  650/1077 - Train Accuracy: 0.9602, Validation Accuracy: 0.9688, Loss: 0.0252\n",
      "Epoch   7 Batch  700/1077 - Train Accuracy: 0.9902, Validation Accuracy: 0.9634, Loss: 0.0204\n",
      "Epoch   7 Batch  750/1077 - Train Accuracy: 0.9785, Validation Accuracy: 0.9677, Loss: 0.0236\n",
      "Epoch   7 Batch  800/1077 - Train Accuracy: 0.9789, Validation Accuracy: 0.9688, Loss: 0.0212\n",
      "Epoch   7 Batch  850/1077 - Train Accuracy: 0.9661, Validation Accuracy: 0.9634, Loss: 0.0367\n",
      "Epoch   7 Batch  900/1077 - Train Accuracy: 0.9680, Validation Accuracy: 0.9624, Loss: 0.0254\n",
      "Epoch   7 Batch  950/1077 - Train Accuracy: 0.9728, Validation Accuracy: 0.9659, Loss: 0.0230\n",
      "Epoch   7 Batch 1000/1077 - Train Accuracy: 0.9606, Validation Accuracy: 0.9677, Loss: 0.0249\n",
      "Epoch   7 Batch 1050/1077 - Train Accuracy: 0.9867, Validation Accuracy: 0.9631, Loss: 0.0155\n",
      "Epoch   8 Batch   50/1077 - Train Accuracy: 0.9672, Validation Accuracy: 0.9567, Loss: 0.0193\n",
      "Epoch   8 Batch  100/1077 - Train Accuracy: 0.9781, Validation Accuracy: 0.9695, Loss: 0.0175\n",
      "Epoch   8 Batch  150/1077 - Train Accuracy: 0.9665, Validation Accuracy: 0.9620, Loss: 0.0208\n",
      "Epoch   8 Batch  200/1077 - Train Accuracy: 0.9684, Validation Accuracy: 0.9737, Loss: 0.0231\n",
      "Epoch   8 Batch  250/1077 - Train Accuracy: 0.9585, Validation Accuracy: 0.9688, Loss: 0.0231\n",
      "Epoch   8 Batch  300/1077 - Train Accuracy: 0.9782, Validation Accuracy: 0.9716, Loss: 0.0191\n",
      "Epoch   8 Batch  350/1077 - Train Accuracy: 0.9727, Validation Accuracy: 0.9673, Loss: 0.0191\n",
      "Epoch   8 Batch  400/1077 - Train Accuracy: 0.9734, Validation Accuracy: 0.9666, Loss: 0.0222\n"
     ]
    },
    {
     "name": "stdout",
     "output_type": "stream",
     "text": [
      "Epoch   8 Batch  450/1077 - Train Accuracy: 0.9516, Validation Accuracy: 0.9489, Loss: 0.0243\n",
      "Epoch   8 Batch  500/1077 - Train Accuracy: 0.9801, Validation Accuracy: 0.9666, Loss: 0.0153\n",
      "Epoch   8 Batch  550/1077 - Train Accuracy: 0.9555, Validation Accuracy: 0.9663, Loss: 0.0208\n",
      "Epoch   8 Batch  600/1077 - Train Accuracy: 0.9795, Validation Accuracy: 0.9716, Loss: 0.0250\n",
      "Epoch   8 Batch  650/1077 - Train Accuracy: 0.9594, Validation Accuracy: 0.9744, Loss: 0.0227\n",
      "Epoch   8 Batch  700/1077 - Train Accuracy: 0.9895, Validation Accuracy: 0.9670, Loss: 0.0156\n",
      "Epoch   8 Batch  750/1077 - Train Accuracy: 0.9715, Validation Accuracy: 0.9627, Loss: 0.0198\n",
      "Epoch   8 Batch  800/1077 - Train Accuracy: 0.9852, Validation Accuracy: 0.9688, Loss: 0.0177\n",
      "Epoch   8 Batch  850/1077 - Train Accuracy: 0.9747, Validation Accuracy: 0.9716, Loss: 0.0345\n",
      "Epoch   8 Batch  900/1077 - Train Accuracy: 0.9750, Validation Accuracy: 0.9663, Loss: 0.0218\n",
      "Epoch   8 Batch  950/1077 - Train Accuracy: 0.9769, Validation Accuracy: 0.9812, Loss: 0.0161\n",
      "Epoch   8 Batch 1000/1077 - Train Accuracy: 0.9736, Validation Accuracy: 0.9666, Loss: 0.0211\n",
      "Epoch   8 Batch 1050/1077 - Train Accuracy: 0.9949, Validation Accuracy: 0.9727, Loss: 0.0124\n",
      "Epoch   9 Batch   50/1077 - Train Accuracy: 0.9812, Validation Accuracy: 0.9727, Loss: 0.0160\n",
      "Epoch   9 Batch  100/1077 - Train Accuracy: 0.9707, Validation Accuracy: 0.9780, Loss: 0.0174\n",
      "Epoch   9 Batch  150/1077 - Train Accuracy: 0.9665, Validation Accuracy: 0.9656, Loss: 0.0153\n",
      "Epoch   9 Batch  200/1077 - Train Accuracy: 0.9848, Validation Accuracy: 0.9688, Loss: 0.0202\n",
      "Epoch   9 Batch  250/1077 - Train Accuracy: 0.9606, Validation Accuracy: 0.9666, Loss: 0.0183\n",
      "Epoch   9 Batch  300/1077 - Train Accuracy: 0.9790, Validation Accuracy: 0.9670, Loss: 0.0148\n",
      "Epoch   9 Batch  350/1077 - Train Accuracy: 0.9734, Validation Accuracy: 0.9666, Loss: 0.0147\n",
      "Epoch   9 Batch  400/1077 - Train Accuracy: 0.9793, Validation Accuracy: 0.9712, Loss: 0.0226\n",
      "Epoch   9 Batch  450/1077 - Train Accuracy: 0.9668, Validation Accuracy: 0.9620, Loss: 0.0207\n",
      "Epoch   9 Batch  500/1077 - Train Accuracy: 0.9770, Validation Accuracy: 0.9766, Loss: 0.0138\n",
      "Epoch   9 Batch  550/1077 - Train Accuracy: 0.9660, Validation Accuracy: 0.9616, Loss: 0.0177\n",
      "Epoch   9 Batch  600/1077 - Train Accuracy: 0.9862, Validation Accuracy: 0.9815, Loss: 0.0230\n",
      "Epoch   9 Batch  650/1077 - Train Accuracy: 0.9754, Validation Accuracy: 0.9744, Loss: 0.0158\n",
      "Epoch   9 Batch  700/1077 - Train Accuracy: 0.9930, Validation Accuracy: 0.9691, Loss: 0.0129\n",
      "Epoch   9 Batch  750/1077 - Train Accuracy: 0.9797, Validation Accuracy: 0.9769, Loss: 0.0177\n",
      "Epoch   9 Batch  800/1077 - Train Accuracy: 0.9809, Validation Accuracy: 0.9744, Loss: 0.0144\n",
      "Epoch   9 Batch  850/1077 - Train Accuracy: 0.9725, Validation Accuracy: 0.9684, Loss: 0.0259\n",
      "Epoch   9 Batch  900/1077 - Train Accuracy: 0.9766, Validation Accuracy: 0.9691, Loss: 0.0205\n",
      "Epoch   9 Batch  950/1077 - Train Accuracy: 0.9851, Validation Accuracy: 0.9762, Loss: 0.0113\n",
      "Epoch   9 Batch 1000/1077 - Train Accuracy: 0.9784, Validation Accuracy: 0.9776, Loss: 0.0158\n",
      "Epoch   9 Batch 1050/1077 - Train Accuracy: 0.9953, Validation Accuracy: 0.9627, Loss: 0.0101\n",
      "Model Trained and Saved\n"
     ]
    }
   ],
   "source": [
    "\"\"\"\n",
    "DON'T MODIFY ANYTHING IN THIS CELL\n",
    "\"\"\"\n",
    "def get_accuracy(target, logits):\n",
    "    \"\"\"\n",
    "    Calculate accuracy\n",
    "    \"\"\"\n",
    "    max_seq = max(target.shape[1], logits.shape[1])\n",
    "    if max_seq - target.shape[1]:\n",
    "        target = np.pad(\n",
    "            target,\n",
    "            [(0,0),(0,max_seq - target.shape[1])],\n",
    "            'constant')\n",
    "    if max_seq - logits.shape[1]:\n",
    "        logits = np.pad(\n",
    "            logits,\n",
    "            [(0,0),(0,max_seq - logits.shape[1])],\n",
    "            'constant')\n",
    "\n",
    "    return np.mean(np.equal(target, logits))\n",
    "\n",
    "# Split data to training and validation sets\n",
    "train_source = source_int_text[batch_size:]\n",
    "train_target = target_int_text[batch_size:]\n",
    "valid_source = source_int_text[:batch_size]\n",
    "valid_target = target_int_text[:batch_size]\n",
    "(valid_sources_batch, valid_targets_batch, valid_sources_lengths, valid_targets_lengths ) = next(get_batches(valid_source,\n",
    "                                                                                                             valid_target,\n",
    "                                                                                                             batch_size,\n",
    "                                                                                                             source_vocab_to_int['<PAD>'],\n",
    "                                                                                                             target_vocab_to_int['<PAD>']))                                                                                                  \n",
    "with tf.Session(graph=train_graph) as sess:\n",
    "    sess.run(tf.global_variables_initializer())\n",
    "\n",
    "    for epoch_i in range(epochs):\n",
    "        for batch_i, (source_batch, target_batch, sources_lengths, targets_lengths) in enumerate(\n",
    "                get_batches(train_source, train_target, batch_size,\n",
    "                            source_vocab_to_int['<PAD>'],\n",
    "                            target_vocab_to_int['<PAD>'])):\n",
    "\n",
    "            _, loss = sess.run(\n",
    "                [train_op, cost],\n",
    "                {input_data: source_batch,\n",
    "                 targets: target_batch,\n",
    "                 lr: learning_rate,\n",
    "                 target_sequence_length: targets_lengths,\n",
    "                 source_sequence_length: sources_lengths,\n",
    "                 keep_prob: keep_probability})\n",
    "\n",
    "\n",
    "            if batch_i % display_step == 0 and batch_i > 0:\n",
    "\n",
    "\n",
    "                batch_train_logits = sess.run(\n",
    "                    inference_logits,\n",
    "                    {input_data: source_batch,\n",
    "                     source_sequence_length: sources_lengths,\n",
    "                     target_sequence_length: targets_lengths,\n",
    "                     keep_prob: 1.0})\n",
    "\n",
    "\n",
    "                batch_valid_logits = sess.run(\n",
    "                    inference_logits,\n",
    "                    {input_data: valid_sources_batch,\n",
    "                     source_sequence_length: valid_sources_lengths,\n",
    "                     target_sequence_length: valid_targets_lengths,\n",
    "                     keep_prob: 1.0})\n",
    "\n",
    "                train_acc = get_accuracy(target_batch, batch_train_logits)\n",
    "\n",
    "                valid_acc = get_accuracy(valid_targets_batch, batch_valid_logits)\n",
    "\n",
    "                print('Epoch {:>3} Batch {:>4}/{} - Train Accuracy: {:>6.4f}, Validation Accuracy: {:>6.4f}, Loss: {:>6.4f}'\n",
    "                      .format(epoch_i, batch_i, len(source_int_text) // batch_size, train_acc, valid_acc, loss))\n",
    "\n",
    "    # Save Model\n",
    "    saver = tf.train.Saver()\n",
    "    saver.save(sess, save_path)\n",
    "    print('Model Trained and Saved')"
   ]
  },
  {
   "cell_type": "code",
   "execution_count": 24,
   "metadata": {},
   "outputs": [
    {
     "ename": "SyntaxError",
     "evalue": "invalid syntax (<ipython-input-24-ebd28e4a8d46>, line 2)",
     "output_type": "error",
     "traceback": [
      "\u001b[0;36m  File \u001b[0;32m\"<ipython-input-24-ebd28e4a8d46>\"\u001b[0;36m, line \u001b[0;32m2\u001b[0m\n\u001b[0;31m    Save the `batch_size` and `save_path` parameters for inference.\u001b[0m\n\u001b[0m           ^\u001b[0m\n\u001b[0;31mSyntaxError\u001b[0m\u001b[0;31m:\u001b[0m invalid syntax\n"
     ]
    }
   ],
   "source": [
    "### Save Parameters\n",
    "Save the `batch_size` and `save_path` parameters for inference."
   ]
  },
  {
   "cell_type": "code",
   "execution_count": 25,
   "metadata": {
    "collapsed": true
   },
   "outputs": [],
   "source": [
    "\"\"\"\n",
    "DON'T MODIFY ANYTHING IN THIS CELL\n",
    "\"\"\"\n",
    "# Save parameters for checkpoint\n",
    "helper.save_params(save_path)"
   ]
  },
  {
   "cell_type": "markdown",
   "metadata": {},
   "source": [
    "# Checkpoint"
   ]
  },
  {
   "cell_type": "code",
   "execution_count": 26,
   "metadata": {
    "collapsed": true
   },
   "outputs": [],
   "source": [
    "\"\"\"\n",
    "DON'T MODIFY ANYTHING IN THIS CELL\n",
    "\"\"\"\n",
    "import tensorflow as tf\n",
    "import numpy as np\n",
    "import helper\n",
    "import problem_unittests as tests\n",
    "\n",
    "_, (source_vocab_to_int, target_vocab_to_int), (source_int_to_vocab, target_int_to_vocab) = helper.load_preprocess()\n",
    "load_path = helper.load_params()"
   ]
  },
  {
   "cell_type": "markdown",
   "metadata": {},
   "source": [
    "## Sentence to Sequence\n",
    "To feed a sentence into the model for translation, you first need to preprocess it.  Implement the function `sentence_to_seq()` to preprocess new sentences.\n",
    "\n",
    "- Convert the sentence to lowercase\n",
    "- Convert words into ids using `vocab_to_int`\n",
    " - Convert words not in the vocabulary, to the `<UNK>` word id."
   ]
  },
  {
   "cell_type": "code",
   "execution_count": 31,
   "metadata": {},
   "outputs": [
    {
     "name": "stdout",
     "output_type": "stream",
     "text": [
      "Tests Passed\n"
     ]
    }
   ],
   "source": [
    "def sentence_to_seq(sentence, vocab_to_int):\n",
    "    \"\"\"\n",
    "    Convert a sentence to a sequence of ids\n",
    "    :param sentence: String\n",
    "    :param vocab_to_int: Dictionary to go from the words to an id\n",
    "    :return: List of word ids\n",
    "    \"\"\"\n",
    "    # TODO: Implement Function\n",
    "    ids = []\n",
    "    for word in sentence.split():\n",
    "        idx = vocab_to_int.get(word, vocab_to_int['<UNK>'])\n",
    "        ids.append(idx)\n",
    "    return ids\n",
    "\n",
    "\n",
    "\"\"\"\n",
    "DON'T MODIFY ANYTHING IN THIS CELL THAT IS BELOW THIS LINE\n",
    "\"\"\"\n",
    "tests.test_sentence_to_seq(sentence_to_seq)"
   ]
  },
  {
   "cell_type": "markdown",
   "metadata": {},
   "source": [
    "## Translate\n",
    "This will translate `translate_sentence` from English to French."
   ]
  },
  {
   "cell_type": "code",
   "execution_count": 32,
   "metadata": {},
   "outputs": [
    {
     "name": "stdout",
     "output_type": "stream",
     "text": [
      "INFO:tensorflow:Restoring parameters from checkpoints/dev\n",
      "Input\n",
      "  Word Ids:      [23, 6, 186, 8, 194, 191, 102]\n",
      "  English Words: ['he', 'saw', 'a', 'old', 'yellow', 'truck', '.']\n",
      "\n",
      "Prediction\n",
      "  Word Ids:      [123, 157, 248, 239, 41, 333, 49, 311, 1]\n",
      "  French Words: il a vu un vieux camion octobre . <EOS>\n"
     ]
    }
   ],
   "source": [
    "translate_sentence = 'he saw a old yellow truck .'\n",
    "\n",
    "\n",
    "\"\"\"\n",
    "DON'T MODIFY ANYTHING IN THIS CELL\n",
    "\"\"\"\n",
    "translate_sentence = sentence_to_seq(translate_sentence, source_vocab_to_int)\n",
    "\n",
    "loaded_graph = tf.Graph()\n",
    "with tf.Session(graph=loaded_graph) as sess:\n",
    "    # Load saved model\n",
    "    loader = tf.train.import_meta_graph(load_path + '.meta')\n",
    "    loader.restore(sess, load_path)\n",
    "\n",
    "    input_data = loaded_graph.get_tensor_by_name('input:0')\n",
    "    logits = loaded_graph.get_tensor_by_name('predictions:0')\n",
    "    target_sequence_length = loaded_graph.get_tensor_by_name('target_sequence_length:0')\n",
    "    source_sequence_length = loaded_graph.get_tensor_by_name('source_sequence_length:0')\n",
    "    keep_prob = loaded_graph.get_tensor_by_name('keep_prob:0')\n",
    "\n",
    "    translate_logits = sess.run(logits, {input_data: [translate_sentence]*batch_size,\n",
    "                                         target_sequence_length: [len(translate_sentence)*2]*batch_size,\n",
    "                                         source_sequence_length: [len(translate_sentence)]*batch_size,\n",
    "                                         keep_prob: 1.0})[0]\n",
    "\n",
    "print('Input')\n",
    "print('  Word Ids:      {}'.format([i for i in translate_sentence]))\n",
    "print('  English Words: {}'.format([source_int_to_vocab[i] for i in translate_sentence]))\n",
    "\n",
    "print('\\nPrediction')\n",
    "print('  Word Ids:      {}'.format([i for i in translate_logits]))\n",
    "print('  French Words: {}'.format(\" \".join([target_int_to_vocab[i] for i in translate_logits])))\n"
   ]
  },
  {
   "cell_type": "markdown",
   "metadata": {},
   "source": [
    "## Imperfect Translation\n",
    "You might notice that some sentences translate better than others.  Since the dataset you're using only has a vocabulary of 227 English words of the thousands that you use, you're only going to see good results using these words.  For this project, you don't need a perfect translation. However, if you want to create a better translation model, you'll need better data.\n",
    "\n",
    "You can train on the [WMT10 French-English corpus](http://www.statmt.org/wmt10/training-giga-fren.tar).  This dataset has more vocabulary and richer in topics discussed.  However, this will take you days to train, so make sure you've a GPU and the neural network is performing well on dataset we provided.  Just make sure you play with the WMT10 corpus after you've submitted this project.\n",
    "## Submitting This Project\n",
    "When submitting this project, make sure to run all the cells before saving the notebook. Save the notebook file as \"dlnd_language_translation.ipynb\" and save it as a HTML file under \"File\" -> \"Download as\". Include the \"helper.py\" and \"problem_unittests.py\" files in your submission."
   ]
  }
 ],
 "metadata": {
  "anaconda-cloud": {},
  "kernelspec": {
   "display_name": "Python 3",
   "language": "python",
   "name": "python3"
  },
  "language_info": {
   "codemirror_mode": {
    "name": "ipython",
    "version": 3
   },
   "file_extension": ".py",
   "mimetype": "text/x-python",
   "name": "python",
   "nbconvert_exporter": "python",
   "pygments_lexer": "ipython3",
   "version": "3.6.2"
  }
 },
 "nbformat": 4,
 "nbformat_minor": 1
}
